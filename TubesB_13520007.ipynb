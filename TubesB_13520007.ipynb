{
  "nbformat": 4,
  "nbformat_minor": 0,
  "metadata": {
    "colab": {
      "provenance": [],
      "include_colab_link": true
    },
    "kernelspec": {
      "name": "python3",
      "display_name": "Python 3"
    },
    "language_info": {
      "name": "python"
    }
  },
  "cells": [
    {
      "cell_type": "markdown",
      "metadata": {
        "id": "view-in-github",
        "colab_type": "text"
      },
      "source": [
        "<a href=\"https://colab.research.google.com/github/averrows/ml/blob/main/TubesB_13520007.ipynb\" target=\"_parent\"><img src=\"https://colab.research.google.com/assets/colab-badge.svg\" alt=\"Open In Colab\"/></a>"
      ]
    },
    {
      "cell_type": "markdown",
      "source": [
        "# **Tugas Besar IF3270 Pembelajaran Mesin Semester 2 Tahun 2022/2023**\n",
        "### **Bagian A: Implementasi Forward Propagation untuk Feed Forward Neural Network**\n",
        "Disusun oleh:\n",
        "*   Nadia Mareta Putri Leiden - 13520007 - K1\n",
        "*   Taufan Fajarama Putrawansyah R - 13520031 - K1\n",
        "*   Raden Haryosatyo Wisjnunandono - 13520070 - K2\n",
        "*   Averrous Saloom - 13520100 - K2\n",
        "\n",
        "\n",
        "\n",
        "\n"
      ],
      "metadata": {
        "id": "K3hVE9dDRJ4P"
      }
    },
    {
      "cell_type": "markdown",
      "source": [
        "\n",
        "\n",
        "---\n",
        "\n",
        "\n",
        "**Nomor 1.**\n",
        "Rancanglah struktur file teks eksternal yang akan dipakai untuk menyimpan model dalam bentuk struktur jaringan (jumlah layer, fungsi aktivasi dan jumlah neuron per layer) dan bobot dari FFNN. Setiap layer dibatasi memiliki neuron dengan fungsi aktivasi yang sama, sedangkan antar layer diperbolehkan memiliki neuron dgn fungsi aktivasi yang berbeda. Fungsi aktivasi yang dikenali adalah linear, sigmoid, ReLU, dan softmax.\n",
        "*   linear: f(net)=net\n",
        "*   reLU: f(net)=max{0,net}\n",
        "*   sigmoid: f(net)=1/(1+e^(-net))\n",
        "*   softmax: f(net_i)=e^(net_i)/Σe^(net_i)"
      ],
      "metadata": {
        "id": "5C0xS2a-SPVE"
      }
    },
    {
      "cell_type": "markdown",
      "source": [
        "Berikut struktur/format file teks eksternal yang akan dipakai untuk menyimpan model\n",
        "\n",
        "\n",
        "```\n",
        "jumlah_layer\n",
        "fungsi_aktivasi_1,jumlah_neuron_1\n",
        "fungsi_aktivasi_2,jumlah_neuron_2\n",
        "...\n",
        "fungsi_aktivasi_n,jumlah_neuron_n\n",
        "bias_layer_1\n",
        "bobot_layer_1\n",
        "bias_layer_2\n",
        "bobot_layer_2\n",
        "...\n",
        "bias_layer_n\n",
        "bobot_layer_n\n",
        "```\n",
        "\n"
      ],
      "metadata": {
        "id": "jeJRPpyVhFa1"
      }
    },
    {
      "cell_type": "markdown",
      "source": [
        "Berikut contoh isi file teks eksternal (model1.txt)\n",
        "\n",
        "\n",
        "```\n",
        "2\n",
        "sigmoid,2\n",
        "relu,2\n",
        "0.2,0.3\n",
        "0.0,-2.0,-1.0,0.0\n",
        "0.4,0.5\n",
        "0.0,-3.0,-1.0,0.0\n",
        "```\n",
        "\n"
      ],
      "metadata": {
        "id": "2eV72RjMhV62"
      }
    },
    {
      "cell_type": "markdown",
      "source": [
        "\n",
        "\n",
        "---\n",
        "\n",
        "\n",
        "**Nomor 2.**\n",
        "Implementasi fitur load (membaca) model FFNN dari file teks."
      ],
      "metadata": {
        "id": "pRlXfLZeUKnZ"
      }
    },
    {
      "cell_type": "code",
      "source": [
        "import numpy as np\n",
        "\n",
        "\n",
        "def load_model(filename):\n",
        "  with open(filename, 'r') as f:\n",
        "    lines = f.read().split('\\n')\n",
        "\n",
        "  num_layer = int(lines[0])\n",
        "  network_info = []\n",
        "  biases = []\n",
        "  weights = []\n",
        "  counter = 0\n",
        "  layer = 0\n",
        "\n",
        "  # membaca line file teks\n",
        "  for i, line in enumerate(lines):\n",
        "    if i > 0:\n",
        "      # membaca informasi jaringan (fungsi aktivasi & jumlah neuron per layer)\n",
        "      if i <= num_layer:\n",
        "        layer_info = line.strip().split(',')\n",
        "        network_info.append((layer_info[0], int(layer_info[1])))\n",
        "      else:\n",
        "        # membaca bias per layer\n",
        "        if counter == 0:\n",
        "          bias = [float(x) for x in lines[i].strip().split(',')]\n",
        "          biases.append(np.array(bias))\n",
        "          counter += 1\n",
        "        # membaca weight per layer\n",
        "        elif counter == 1:\n",
        "          weight = []\n",
        "          neurons = lines[i].strip().split(',')\n",
        "          neurons = np.array_split(neurons, len(neurons)/network_info[layer-1][1])\n",
        "          for j in range(len(neurons)):\n",
        "            row = [float(x) for x in neurons[j]]\n",
        "            weight.append(row)\n",
        "          weights.append(np.array(weight))\n",
        "          counter = 0\n",
        "          layer += 1\n",
        "  \n",
        "  # menyusun model jaringan\n",
        "  model = []\n",
        "  for i, layer in enumerate(network_info):\n",
        "    activation_function = layer[0]\n",
        "    num_neurons = layer[1]\n",
        "    model.append({\n",
        "      'activation_function': activation_function,\n",
        "      'num_neurons': num_neurons,\n",
        "      'biases': biases[i],\n",
        "      'weights': weights[i]\n",
        "    })\n",
        "    \n",
        "  return model"
      ],
      "metadata": {
        "id": "P8SiNaI2UYyG"
      },
      "execution_count": null,
      "outputs": []
    },
    {
      "cell_type": "code",
      "source": [
        "# fungsi input\n",
        "def input_to_model(arr, model):\n",
        "  num_neurons_input = len(arr[0])\n",
        "  model.insert(0, {\n",
        "    'num_neurons': num_neurons_input,\n",
        "    'value': arr\n",
        "  })\n",
        "  return model\n",
        "\n",
        "# test load & input model\n",
        "model = load_model('model1.txt')\n",
        "val_input = np.array([[1.0, 0.0], [0.0, 1.0], [0.0, 0.0]])\n",
        "model = input_to_model(val_input, model)\n",
        "print(model)"
      ],
      "metadata": {
        "id": "7-30QiuzZUZz",
        "colab": {
          "base_uri": "https://localhost:8080/"
        },
        "outputId": "cf2f2c32-3ebf-4700-ffca-d054167143bc"
      },
      "execution_count": null,
      "outputs": [
        {
          "output_type": "stream",
          "name": "stdout",
          "text": [
            "[{'num_neurons': 2, 'value': array([[1., 0.],\n",
            "       [0., 1.],\n",
            "       [0., 0.]])}, {'activation_function': 'sigmoid', 'num_neurons': 2, 'biases': array([0.2, 0.3]), 'weights': array([[ 0., -2.],\n",
            "       [-1.,  0.]])}, {'activation_function': 'relu', 'num_neurons': 2, 'biases': array([0.4, 0.5]), 'weights': array([[ 0., -3.],\n",
            "       [-1.,  0.]])}]\n"
          ]
        }
      ]
    },
    {
      "cell_type": "markdown",
      "source": [
        "\n",
        "\n",
        "---\n",
        "\n",
        "\n",
        "**Nomor 3.a.**\n",
        "Implementasi forward propagation untuk FFNN dengan kemampuan:\n",
        "*   Menampilkan model berupa struktur jaringan dan bobotnya, formatnya bebas."
      ],
      "metadata": {
        "id": "ILH0Sq__Ua9h"
      }
    },
    {
      "cell_type": "code",
      "source": [
        "# bikin fungsi visualisasi jaringan\n",
        "from graphviz import Digraph\n",
        "import random\n",
        "\n",
        "\n",
        "def drawModel(model, filename) :\n",
        "    f = Digraph('G', filename='./graph_{}'.format(filename))\n",
        "    f.attr('node', shape='circle')\n",
        "\n",
        "    num_input = 0\n",
        "\n",
        "    for layer in range (1, len(model)):\n",
        "        weight = np.transpose(model[layer][\"weights\"])\n",
        "        for i in range (model[layer][\"num_neurons\"]):\n",
        "            for j in range (model[layer-1][\"num_neurons\"]):\n",
        "                if (layer == 1):\n",
        "                    start = \"x\" + str(j+1)\n",
        "                else:\n",
        "                    start = \"h\" + str(layer-1) + \",\" + str (j+1)\n",
        "                if(layer == (len(model)-1)) :\n",
        "                    end = \"y\" + str(i+1)              \n",
        "                else:\n",
        "                    end = \"h\" + str(layer) + \",\" + str (i+1)\n",
        "                f.edge(start,end,label=str(weight[i][j]))\n",
        "\n",
        "            name_bias = \"b\" + str(layer)\n",
        "            if (layer == (len(model)-1)):\n",
        "                end = \"y\" + str(i+1)\n",
        "            f.edge(name_bias,end,label=str(model[layer][\"biases\"][i]))\n",
        "\n",
        "    f.view()\n",
        "    print(\"==========================================\")\n",
        "    print(f)\n",
        "\n",
        "    print(\"==========================================\")\n",
        "    for layer in range (1, len(model)):\n",
        "        print(\"LAYER       {}: {}\".format(layer,model[layer][\"activation_function\"]))   "
      ],
      "metadata": {
        "id": "koWyxCZVVH7N"
      },
      "execution_count": null,
      "outputs": []
    },
    {
      "cell_type": "code",
      "source": [
        "# implement\n",
        "drawModel(model, \"model1\")"
      ],
      "metadata": {
        "id": "HCKfiAMILMPv",
        "colab": {
          "base_uri": "https://localhost:8080/"
        },
        "outputId": "13a4f67f-c3ec-42d5-ce24-61cb88a3dca1"
      },
      "execution_count": null,
      "outputs": [
        {
          "output_type": "stream",
          "name": "stdout",
          "text": [
            "==========================================\n",
            "digraph G {\n",
            "\tnode [shape=circle]\n",
            "\tx1 -> \"h1,1\" [label=0.0]\n",
            "\tx2 -> \"h1,1\" [label=-1.0]\n",
            "\tb1 -> \"h1,1\" [label=0.2]\n",
            "\tx1 -> \"h1,2\" [label=-2.0]\n",
            "\tx2 -> \"h1,2\" [label=0.0]\n",
            "\tb1 -> \"h1,2\" [label=0.3]\n",
            "\t\"h1,1\" -> y1 [label=0.0]\n",
            "\t\"h1,2\" -> y1 [label=-1.0]\n",
            "\tb2 -> y1 [label=0.4]\n",
            "\t\"h1,1\" -> y2 [label=-3.0]\n",
            "\t\"h1,2\" -> y2 [label=0.0]\n",
            "\tb2 -> y2 [label=0.5]\n",
            "}\n",
            "\n",
            "==========================================\n",
            "LAYER       1: sigmoid\n",
            "LAYER       2: relu\n"
          ]
        }
      ]
    },
    {
      "cell_type": "markdown",
      "source": [
        "**Nomor 3.b.**\n",
        "Implementasi forward propagation untuk FFNN dengan kemampuan:\n",
        "*   Memprediksi output untuk input 1 instance."
      ],
      "metadata": {
        "id": "wW2jiVsJVK0g"
      }
    },
    {
      "cell_type": "code",
      "source": [
        "# fungsi aktivasi\n",
        "def sigmoid(value: np.ndarray) -> np.ndarray:     \n",
        "  return 1 / (1 + np.exp(-value))\n",
        "\n",
        "def relu(value: np.ndarray) -> np.ndarray:\n",
        "  return np.maximum(0, value)\n",
        "\n",
        "def linear(value: np.ndarray) -> np.ndarray:\n",
        "  return value\n",
        "\n",
        "def softmax(value: np.ndarray) -> np.ndarray:\n",
        "  e_i = np.exp(value - np.max(value))\n",
        "  return e_i / e_i.sum()\n",
        "\n",
        "functions = {\n",
        "    \"sigmoid\": sigmoid,\n",
        "    \"relu\": relu,\n",
        "    \"linear\": linear,\n",
        "    \"softmax\": softmax\n",
        "}\n",
        "\n",
        "# fungsi FFNN\n",
        "def forward_propagation(model):\n",
        "  results = []\n",
        "  for inputs in range(len(model[0][\"value\"])):\n",
        "    output_val = model[0][\"value\"][inputs]\n",
        "    for layer in range (1, len(model)):\n",
        "      output_val = feed_forward(layer, model, output_val)\n",
        "    results.append(output_val)\n",
        "  return results\n",
        "\n",
        "def feed_forward(layer, model, prevoutput):\n",
        "  output_val = np.dot(prevoutput, model[layer][\"weights\"]) + model[layer]['biases']\n",
        "  a_fun = functions[model[layer][\"activation_function\"]] \n",
        "  return a_fun(output_val)"
      ],
      "metadata": {
        "id": "tW_qz1waLOJG"
      },
      "execution_count": null,
      "outputs": []
    },
    {
      "cell_type": "code",
      "source": [
        "# implementasi 1 instance\n",
        "model = load_model('model1.txt')\n",
        "val_input = np.array([[1.0, 0.0]])\n",
        "model = input_to_model(val_input, model)\n",
        "print(model)\n",
        "print()\n",
        "res = forward_propagation(model)\n",
        "print(res)"
      ],
      "metadata": {
        "id": "937TaIlJVoLf",
        "colab": {
          "base_uri": "https://localhost:8080/"
        },
        "outputId": "d6335722-e705-4f01-ccb8-801592badc58"
      },
      "execution_count": null,
      "outputs": [
        {
          "output_type": "stream",
          "name": "stdout",
          "text": [
            "[{'num_neurons': 2, 'value': array([[1., 0.]])}, {'activation_function': 'sigmoid', 'num_neurons': 2, 'biases': array([0.2, 0.3]), 'weights': array([[ 0., -2.],\n",
            "       [-1.,  0.]])}, {'activation_function': 'relu', 'num_neurons': 2, 'biases': array([0.4, 0.5]), 'weights': array([[ 0., -3.],\n",
            "       [-1.,  0.]])}]\n",
            "\n",
            "[array([0.24553473, 0.        ])]\n"
          ]
        }
      ]
    },
    {
      "cell_type": "markdown",
      "source": [
        "**Nomor 3.c.**\n",
        "Implementasi forward propagation untuk FFNN dengan kemampuan:\n",
        "*   Memprediksi output untuk input batch sejumlah instances."
      ],
      "metadata": {
        "id": "zCiaNrK6V5ET"
      }
    },
    {
      "cell_type": "code",
      "source": [
        "# implementasi sejumlah instances\n",
        "model = load_model('model1.txt')\n",
        "val_input = np.array([[1.0, 0.0], [0.0, 1.0], [0.0, 0.0]])\n",
        "model = input_to_model(val_input, model)\n",
        "print(model)\n",
        "print()\n",
        "res = forward_propagation(model)\n",
        "print(res)"
      ],
      "metadata": {
        "id": "-j-Qb_MFV_pw",
        "colab": {
          "base_uri": "https://localhost:8080/"
        },
        "outputId": "91f1cc5d-cb79-4a82-ee07-1ec16ceb16e7"
      },
      "execution_count": null,
      "outputs": [
        {
          "output_type": "stream",
          "name": "stdout",
          "text": [
            "[{'num_neurons': 2, 'value': array([[1., 0.],\n",
            "       [0., 1.],\n",
            "       [0., 0.]])}, {'activation_function': 'sigmoid', 'num_neurons': 2, 'biases': array([0.2, 0.3]), 'weights': array([[ 0., -2.],\n",
            "       [-1.,  0.]])}, {'activation_function': 'relu', 'num_neurons': 2, 'biases': array([0.4, 0.5]), 'weights': array([[ 0., -3.],\n",
            "       [-1.,  0.]])}]\n",
            "\n",
            "[array([0.24553473, 0.        ]), array([0., 0.]), array([0., 0.])]\n"
          ]
        }
      ]
    },
    {
      "cell_type": "markdown",
      "source": [
        "\n",
        "\n",
        "---\n",
        "\n",
        "\n",
        "**Nomor 4.** Pengujian kebenaran fungsional dari forward propagation yang diimplementasikan dilakukan dengan menggunakan kasus uji yang disiapkan oleh asisten."
      ],
      "metadata": {
        "id": "qlFwnxleqShC"
      }
    },
    {
      "cell_type": "code",
      "source": [
        "# linear.json\n",
        "model = load_model('linear_asisten.txt')\n",
        "val_input = np.array([[3.0,1.0]])\n",
        "model = input_to_model(val_input, model)\n",
        "print(model)\n",
        "print()\n",
        "\n",
        "drawModel(model, 'linear_asisten')\n",
        "print()\n",
        "\n",
        "res = forward_propagation(model)\n",
        "print(res)"
      ],
      "metadata": {
        "id": "nkvWfNOUqZhC",
        "colab": {
          "base_uri": "https://localhost:8080/"
        },
        "outputId": "1851cdc0-13af-467b-8430-df946af3d830"
      },
      "execution_count": null,
      "outputs": [
        {
          "output_type": "stream",
          "name": "stdout",
          "text": [
            "[{'num_neurons': 2, 'value': array([[3., 1.]])}, {'activation_function': 'linear', 'num_neurons': 3, 'biases': array([0.2, 0.3, 0.1]), 'weights': array([[ 0.5,  0.2, -0.8],\n",
            "       [ 0.3, -0.6,  0.4]])}]\n",
            "\n",
            "==========================================\n",
            "digraph G {\n",
            "\tnode [shape=circle]\n",
            "\tx1 -> y1 [label=0.5]\n",
            "\tx2 -> y1 [label=0.3]\n",
            "\tb1 -> y1 [label=0.2]\n",
            "\tx1 -> y2 [label=0.2]\n",
            "\tx2 -> y2 [label=-0.6]\n",
            "\tb1 -> y2 [label=0.3]\n",
            "\tx1 -> y3 [label=-0.8]\n",
            "\tx2 -> y3 [label=0.4]\n",
            "\tb1 -> y3 [label=0.1]\n",
            "}\n",
            "\n",
            "==========================================\n",
            "LAYER       1: linear\n",
            "\n",
            "[array([ 2. ,  0.3, -1.9])]\n"
          ]
        }
      ]
    },
    {
      "cell_type": "code",
      "source": [
        "# relu.json\n",
        "model = load_model('relu_asisten.txt')\n",
        "val_input = np.array([[-1.0, 0.5]])\n",
        "model = input_to_model(val_input, model)\n",
        "print(model)\n",
        "print()\n",
        "\n",
        "drawModel(model, 'relu_asisten')\n",
        "print()\n",
        "\n",
        "res = forward_propagation(model)\n",
        "print(res)"
      ],
      "metadata": {
        "colab": {
          "base_uri": "https://localhost:8080/"
        },
        "id": "htElWbP6iKUg",
        "outputId": "a112095e-a318-456e-d8f8-38ebdb594023"
      },
      "execution_count": null,
      "outputs": [
        {
          "output_type": "stream",
          "name": "stdout",
          "text": [
            "[{'num_neurons': 2, 'value': array([[-1. ,  0.5]])}, {'activation_function': 'relu', 'num_neurons': 3, 'biases': array([0.1, 0.2, 0.3]), 'weights': array([[ 0.4, -0.5,  0.6],\n",
            "       [ 0.7,  0.8, -0.9]])}]\n",
            "\n",
            "==========================================\n",
            "digraph G {\n",
            "\tnode [shape=circle]\n",
            "\tx1 -> y1 [label=0.4]\n",
            "\tx2 -> y1 [label=0.7]\n",
            "\tb1 -> y1 [label=0.1]\n",
            "\tx1 -> y2 [label=-0.5]\n",
            "\tx2 -> y2 [label=0.8]\n",
            "\tb1 -> y2 [label=0.2]\n",
            "\tx1 -> y3 [label=0.6]\n",
            "\tx2 -> y3 [label=-0.9]\n",
            "\tb1 -> y3 [label=0.3]\n",
            "}\n",
            "\n",
            "==========================================\n",
            "LAYER       1: relu\n",
            "\n",
            "[array([0.05, 1.1 , 0.  ])]\n"
          ]
        }
      ]
    },
    {
      "cell_type": "code",
      "source": [
        "# sigmoid.json\n",
        "model = load_model('sigmoid_asisten.txt')\n",
        "val_input = np.array([[0.2, 0.4]])\n",
        "model = input_to_model(val_input, model)\n",
        "print(model)\n",
        "print()\n",
        "\n",
        "drawModel(model, 'sigmoid_asisten')\n",
        "print()\n",
        "\n",
        "res = forward_propagation(model)\n",
        "print(res)"
      ],
      "metadata": {
        "colab": {
          "base_uri": "https://localhost:8080/"
        },
        "id": "yuOyNE1viV89",
        "outputId": "42fc63fa-e240-424e-df75-a3522aa0979b"
      },
      "execution_count": null,
      "outputs": [
        {
          "output_type": "stream",
          "name": "stdout",
          "text": [
            "[{'num_neurons': 2, 'value': array([[0.2, 0.4]])}, {'activation_function': 'sigmoid', 'num_neurons': 3, 'biases': array([0.4, 0.2, 0.1]), 'weights': array([[0.2, 0.4, 0.2],\n",
            "       [0.1, 0.2, 0.4]])}]\n",
            "\n",
            "==========================================\n",
            "digraph G {\n",
            "\tnode [shape=circle]\n",
            "\tx1 -> y1 [label=0.2]\n",
            "\tx2 -> y1 [label=0.1]\n",
            "\tb1 -> y1 [label=0.4]\n",
            "\tx1 -> y2 [label=0.4]\n",
            "\tx2 -> y2 [label=0.2]\n",
            "\tb1 -> y2 [label=0.2]\n",
            "\tx1 -> y3 [label=0.2]\n",
            "\tx2 -> y3 [label=0.4]\n",
            "\tb1 -> y3 [label=0.1]\n",
            "}\n",
            "\n",
            "==========================================\n",
            "LAYER       1: sigmoid\n",
            "\n",
            "[array([0.61774787, 0.58904043, 0.57444252])]\n"
          ]
        }
      ]
    },
    {
      "cell_type": "code",
      "source": [
        "# softmax.json\n",
        "model = load_model('softmax_asisten.txt')\n",
        "val_input = np.array([[1.0, 2.0]])\n",
        "model = input_to_model(val_input, model)\n",
        "print(model)\n",
        "print()\n",
        "\n",
        "drawModel(model, 'softmax_asisten')\n",
        "print()\n",
        "\n",
        "res = forward_propagation(model)\n",
        "print(res)"
      ],
      "metadata": {
        "colab": {
          "base_uri": "https://localhost:8080/"
        },
        "id": "CBb-VIBnio74",
        "outputId": "cf83fed8-9bb4-4fe8-e5f3-64e27efe24df"
      },
      "execution_count": null,
      "outputs": [
        {
          "output_type": "stream",
          "name": "stdout",
          "text": [
            "[{'num_neurons': 2, 'value': array([[1., 2.]])}, {'activation_function': 'softmax', 'num_neurons': 3, 'biases': array([1., 2., 3.]), 'weights': array([[2., 1., 3.],\n",
            "       [3., 2., 1.]])}]\n",
            "\n",
            "==========================================\n",
            "digraph G {\n",
            "\tnode [shape=circle]\n",
            "\tx1 -> y1 [label=2.0]\n",
            "\tx2 -> y1 [label=3.0]\n",
            "\tb1 -> y1 [label=1.0]\n",
            "\tx1 -> y2 [label=1.0]\n",
            "\tx2 -> y2 [label=2.0]\n",
            "\tb1 -> y2 [label=2.0]\n",
            "\tx1 -> y3 [label=3.0]\n",
            "\tx2 -> y3 [label=1.0]\n",
            "\tb1 -> y3 [label=3.0]\n",
            "}\n",
            "\n",
            "==========================================\n",
            "LAYER       1: softmax\n",
            "\n",
            "[array([0.66524096, 0.09003057, 0.24472847])]\n"
          ]
        }
      ]
    },
    {
      "cell_type": "code",
      "source": [
        "# multilayer.json\n",
        "model = load_model('multilayer_asisten.txt')\n",
        "val_input = np.array([[1.0, 0.0],[0.0, 1.0],[0.0, 0.0]])\n",
        "model = input_to_model(val_input, model)\n",
        "print(model)\n",
        "print()\n",
        "\n",
        "drawModel(model, 'multilayer_asisten')\n",
        "print()\n",
        "\n",
        "res = forward_propagation(model)\n",
        "print(res)"
      ],
      "metadata": {
        "colab": {
          "base_uri": "https://localhost:8080/"
        },
        "id": "KaxGNFXci8tO",
        "outputId": "51c4e606-900f-4d49-af2d-76e1e8f1dbc9"
      },
      "execution_count": null,
      "outputs": [
        {
          "output_type": "stream",
          "name": "stdout",
          "text": [
            "[{'num_neurons': 2, 'value': array([[1., 0.],\n",
            "       [0., 1.],\n",
            "       [0., 0.]])}, {'activation_function': 'linear', 'num_neurons': 2, 'biases': array([0.5, 0.5]), 'weights': array([[ 0., -2.],\n",
            "       [-1.,  0.]])}, {'activation_function': 'relu', 'num_neurons': 2, 'biases': array([0.5, 0.5]), 'weights': array([[ 0., -3.],\n",
            "       [-1.,  0.]])}]\n",
            "\n",
            "==========================================\n",
            "digraph G {\n",
            "\tnode [shape=circle]\n",
            "\tx1 -> \"h1,1\" [label=0.0]\n",
            "\tx2 -> \"h1,1\" [label=-1.0]\n",
            "\tb1 -> \"h1,1\" [label=0.5]\n",
            "\tx1 -> \"h1,2\" [label=-2.0]\n",
            "\tx2 -> \"h1,2\" [label=0.0]\n",
            "\tb1 -> \"h1,2\" [label=0.5]\n",
            "\t\"h1,1\" -> y1 [label=0.0]\n",
            "\t\"h1,2\" -> y1 [label=-1.0]\n",
            "\tb2 -> y1 [label=0.5]\n",
            "\t\"h1,1\" -> y2 [label=-3.0]\n",
            "\t\"h1,2\" -> y2 [label=0.0]\n",
            "\tb2 -> y2 [label=0.5]\n",
            "}\n",
            "\n",
            "==========================================\n",
            "LAYER       1: linear\n",
            "LAYER       2: relu\n",
            "\n",
            "[array([2., 0.]), array([0., 2.]), array([0., 0.])]\n"
          ]
        }
      ]
    },
    {
      "cell_type": "markdown",
      "source": [
        "**Perbandingan Nilai**"
      ],
      "metadata": {
        "id": "REhprVC1zEzF"
      }
    },
    {
      "cell_type": "code",
      "source": [
        "import json\n",
        "\n",
        "def load_test_case(filename):\n",
        "  f = open(filename, 'r')\n",
        "  content = json.load(f)\n",
        "\n",
        "  test_case = content[\"case\"]\n",
        "\n",
        "  model = build_case_model(test_case[\"model\"][\"layers\"], test_case[\"weights\"])\n",
        "  input = test_case[\"input\"]\n",
        "\n",
        "  # put input into model\n",
        "  model = input_to_model(input, model)\n",
        "\n",
        "  expected_output = content[\"expect\"][\"output\"]\n",
        "  maximum_error = content[\"expect\"][\"max_sse\"]\n",
        "  return model, expected_output, maximum_error\n",
        "  \n",
        "def build_layer(activation_function, num_neurons, bias, weight):\n",
        "  return {\n",
        "      'activation_function': activation_function,\n",
        "      'num_neurons': num_neurons,\n",
        "      'biases': bias,\n",
        "      'weights': weight\n",
        "  }\n",
        "\n",
        "def build_case_model(layers, weights):\n",
        "  model = []\n",
        "  for idx, layer in enumerate(layers):\n",
        "    model.append(build_layer(layer[\"activation_function\"], \n",
        "                             layer[\"number_of_neurons\"], \n",
        "                             np.array(weights[idx][0]),\n",
        "                             np.array(weights[idx][1:])))\n",
        "  return model\n",
        "\n",
        "def sse(A,B):\n",
        "  dif = A.ravel() - B.ravel()\n",
        "  return np.dot( dif, dif )\n",
        "\n",
        "def run_test_case(filename):\n",
        "  model, expected, maximum_error = load_test_case(filename)\n",
        "  output = forward_propagation(model)\n",
        "\n",
        "  print(\"TESTCASE: \", filename)\n",
        "  print(\"EXPECTED\")\n",
        "  print(expected)\n",
        "  print(\"RESULT\")\n",
        "  print(list(map(lambda x: x.tolist(),output)))\n",
        "  print(\"ERROR\")\n",
        "  err = sse(np.array(expected), np.array(output))\n",
        "  print(err, \" Maximum: \", maximum_error)\n",
        "  if (err <= maximum_error):\n",
        "    print(\"========================= PASS ==========================\")\n",
        "  else:\n",
        "    print(\"========================= FAIL ==========================\")\n",
        "\n",
        "def run_test():\n",
        "  test_cases = ['linear.json','multilayer.json','relu.json','sigmoid.json','softmax.json']\n",
        "  for test in test_cases:\n",
        "    run_test_case(test)\n",
        "\n",
        "run_test()"
      ],
      "metadata": {
        "colab": {
          "base_uri": "https://localhost:8080/"
        },
        "id": "9Jj0pO6KzQwH",
        "outputId": "70195464-ff5f-4173-8c0f-78a451d75a67"
      },
      "execution_count": null,
      "outputs": [
        {
          "output_type": "stream",
          "name": "stdout",
          "text": [
            "TESTCASE:  linear.json\n",
            "EXPECTED\n",
            "[[2.0, 0.3, -1.9]]\n",
            "RESULT\n",
            "[[2.0, 0.3000000000000001, -1.9000000000000004]]\n",
            "ERROR\n",
            "2.0954117794933126e-31  Maximum:  1e-06\n",
            "========================= PASS ==========================\n",
            "TESTCASE:  multilayer.json\n",
            "EXPECTED\n",
            "[[2.0, 0.0], [0.0, 2.0], [0.0, 0.0]]\n",
            "RESULT\n",
            "[[2.0, 0.0], [0.0, 2.0], [0.0, 0.0]]\n",
            "ERROR\n",
            "0.0  Maximum:  1e-06\n",
            "========================= PASS ==========================\n",
            "TESTCASE:  relu.json\n",
            "EXPECTED\n",
            "[[0.05, 1.1, 0.0]]\n",
            "RESULT\n",
            "[[0.04999999999999996, 1.1, 0.0]]\n",
            "ERROR\n",
            "1.7333369499485123e-33  Maximum:  1e-06\n",
            "========================= PASS ==========================\n",
            "TESTCASE:  sigmoid.json\n",
            "EXPECTED\n",
            "[[0.617747], [0.58904], [0.574442]]\n",
            "RESULT\n",
            "[[0.617747874769249, 0.5890404340586651, 0.574442516811659]]\n",
            "ERROR\n",
            "1.2207224545374987e-12  Maximum:  1e-06\n",
            "========================= PASS ==========================\n",
            "TESTCASE:  softmax.json\n",
            "EXPECTED\n",
            "[[0.665241, 0.090031, 0.244728]]\n",
            "RESULT\n",
            "[[0.6652409557748218, 0.09003057317038046, 0.24472847105479764]]\n",
            "ERROR\n",
            "4.060320128803411e-13  Maximum:  1e-06\n",
            "========================= PASS ==========================\n"
          ]
        }
      ]
    }
  ]
}