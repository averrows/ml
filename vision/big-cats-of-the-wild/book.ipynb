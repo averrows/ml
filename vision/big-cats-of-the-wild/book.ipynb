{
 "cells": [
  {
   "cell_type": "code",
   "execution_count": 4,
   "metadata": {},
   "outputs": [
    {
     "data": {
      "text/plain": [
       "[\"Warning: Your Kaggle API key is readable by other users on this system! To fix this, you can run 'chmod 600 /home/averrous/.kaggle/kaggle.json'\",\n",
       " 'Downloading cats-in-the-wild-image-classification.zip to /home/averrous/dev/projects/ml/vision/big-cats-of-the-wild',\n",
       " '',\n",
       " '  0%|          | 0.00/123M [00:00<?, ?B/s]',\n",
       " '  1%|          | 1.00M/123M [00:00<01:53, 1.13MB/s]',\n",
       " '  2%|▏         | 2.00M/123M [00:01<01:06, 1.92MB/s]',\n",
       " '  2%|▏         | 3.00M/123M [00:01<00:48, 2.62MB/s]',\n",
       " '  3%|▎         | 4.00M/123M [00:01<00:35, 3.51MB/s]',\n",
       " '  4%|▍         | 5.00M/123M [00:01<00:33, 3.73MB/s]',\n",
       " '  5%|▍         | 6.00M/123M [00:02<00:30, 3.97MB/s]',\n",
       " '  6%|▌         | 7.00M/123M [00:02<00:25, 4.72MB/s]',\n",
       " '  6%|▋         | 8.00M/123M [00:02<00:23, 5.09MB/s]',\n",
       " '  7%|▋         | 9.00M/123M [00:02<00:24, 4.90MB/s]',\n",
       " '  8%|▊         | 10.0M/123M [00:02<00:21, 5.41MB/s]',\n",
       " '  9%|▉         | 11.0M/123M [00:02<00:19, 6.13MB/s]',\n",
       " ' 10%|▉         | 12.0M/123M [00:02<00:17, 6.65MB/s]',\n",
       " ' 11%|█         | 13.0M/123M [00:03<00:19, 5.96MB/s]',\n",
       " ' 11%|█▏        | 14.0M/123M [00:03<00:18, 6.18MB/s]',\n",
       " ' 12%|█▏        | 15.0M/123M [00:03<00:16, 6.85MB/s]',\n",
       " ' 13%|█▎        | 16.0M/123M [00:03<00:15, 7.32MB/s]',\n",
       " ' 14%|█▍        | 17.0M/123M [00:03<00:17, 6.48MB/s]',\n",
       " ' 15%|█▍        | 18.0M/123M [00:03<00:17, 6.26MB/s]',\n",
       " ' 15%|█▌        | 19.0M/123M [00:04<00:17, 6.35MB/s]',\n",
       " ' 16%|█▌        | 20.0M/123M [00:04<00:16, 6.70MB/s]',\n",
       " ' 17%|█▋        | 21.0M/123M [00:04<00:18, 5.94MB/s]',\n",
       " ' 18%|█▊        | 22.0M/123M [00:04<00:17, 5.96MB/s]',\n",
       " ' 19%|█▊        | 23.0M/123M [00:04<00:18, 5.81MB/s]',\n",
       " ' 19%|█▉        | 24.0M/123M [00:05<00:17, 5.91MB/s]',\n",
       " ' 20%|██        | 25.0M/123M [00:05<00:19, 5.38MB/s]',\n",
       " ' 21%|██        | 26.0M/123M [00:05<00:16, 6.06MB/s]',\n",
       " ' 22%|██▏       | 27.0M/123M [00:05<00:15, 6.55MB/s]',\n",
       " ' 23%|██▎       | 28.0M/123M [00:05<00:18, 5.44MB/s]',\n",
       " ' 24%|██▎       | 29.0M/123M [00:06<00:21, 4.54MB/s]',\n",
       " ' 24%|██▍       | 30.0M/123M [00:06<00:18, 5.30MB/s]',\n",
       " ' 25%|██▌       | 31.0M/123M [00:06<00:20, 4.66MB/s]',\n",
       " ' 26%|██▌       | 32.0M/123M [00:06<00:19, 4.96MB/s]',\n",
       " ' 27%|██▋       | 33.0M/123M [00:06<00:16, 5.68MB/s]',\n",
       " ' 28%|██▊       | 34.0M/123M [00:07<00:16, 5.56MB/s]',\n",
       " ' 28%|██▊       | 35.0M/123M [00:07<00:16, 5.58MB/s]',\n",
       " ' 29%|██▉       | 36.0M/123M [00:07<00:14, 6.19MB/s]',\n",
       " ' 30%|███       | 37.0M/123M [00:07<00:14, 6.09MB/s]',\n",
       " ' 31%|███       | 38.0M/123M [00:07<00:17, 5.21MB/s]',\n",
       " ' 32%|███▏      | 39.0M/123M [00:08<00:18, 4.88MB/s]',\n",
       " ' 32%|███▏      | 40.0M/123M [00:08<00:17, 4.97MB/s]',\n",
       " ' 33%|███▎      | 41.0M/123M [00:08<00:20, 4.25MB/s]',\n",
       " ' 34%|███▍      | 42.0M/123M [00:08<00:17, 4.89MB/s]',\n",
       " ' 35%|███▍      | 43.0M/123M [00:08<00:16, 5.02MB/s]',\n",
       " ' 36%|███▌      | 44.0M/123M [00:09<00:16, 5.05MB/s]',\n",
       " ' 37%|███▋      | 45.0M/123M [00:09<00:17, 4.82MB/s]',\n",
       " ' 37%|███▋      | 46.0M/123M [00:09<00:15, 5.16MB/s]',\n",
       " ' 38%|███▊      | 47.0M/123M [00:09<00:16, 4.81MB/s]',\n",
       " ' 39%|███▉      | 48.0M/123M [00:09<00:15, 5.08MB/s]',\n",
       " ' 40%|███▉      | 49.0M/123M [00:10<00:13, 5.63MB/s]',\n",
       " ' 41%|████      | 50.0M/123M [00:10<00:16, 4.71MB/s]',\n",
       " ' 41%|████▏     | 51.0M/123M [00:10<00:14, 5.30MB/s]',\n",
       " ' 42%|████▏     | 52.0M/123M [00:10<00:13, 5.61MB/s]',\n",
       " ' 43%|████▎     | 53.0M/123M [00:10<00:15, 4.76MB/s]',\n",
       " ' 44%|████▍     | 54.0M/123M [00:11<00:13, 5.35MB/s]',\n",
       " ' 45%|████▍     | 55.0M/123M [00:11<00:15, 4.76MB/s]',\n",
       " ' 45%|████▌     | 56.0M/123M [00:11<00:14, 4.88MB/s]',\n",
       " ' 46%|████▌     | 57.0M/123M [00:11<00:12, 5.63MB/s]',\n",
       " ' 47%|████▋     | 58.0M/123M [00:11<00:11, 5.80MB/s]',\n",
       " ' 48%|████▊     | 59.0M/123M [00:12<00:10, 6.46MB/s]',\n",
       " ' 49%|████▊     | 60.0M/123M [00:12<00:12, 5.45MB/s]',\n",
       " ' 49%|████▉     | 61.0M/123M [00:12<00:10, 6.08MB/s]',\n",
       " ' 50%|█████     | 62.0M/123M [00:12<00:09, 6.69MB/s]',\n",
       " ' 51%|█████     | 63.0M/123M [00:12<00:08, 7.29MB/s]',\n",
       " ' 52%|█████▏    | 64.0M/123M [00:12<00:10, 5.84MB/s]',\n",
       " ' 53%|█████▎    | 65.0M/123M [00:13<00:09, 6.47MB/s]',\n",
       " ' 54%|█████▎    | 66.0M/123M [00:13<00:09, 6.45MB/s]',\n",
       " ' 54%|█████▍    | 67.0M/123M [00:13<00:08, 6.96MB/s]',\n",
       " ' 55%|█████▌    | 68.0M/123M [00:13<00:10, 5.78MB/s]',\n",
       " ' 56%|█████▌    | 69.0M/123M [00:13<00:10, 5.23MB/s]',\n",
       " ' 57%|█████▋    | 70.0M/123M [00:13<00:09, 5.88MB/s]',\n",
       " ' 58%|█████▊    | 71.0M/123M [00:14<00:10, 5.10MB/s]',\n",
       " ' 58%|█████▊    | 72.0M/123M [00:14<00:09, 5.87MB/s]',\n",
       " ' 59%|█████▉    | 73.0M/123M [00:14<00:13, 3.99MB/s]',\n",
       " ' 60%|██████    | 74.0M/123M [00:14<00:10, 4.81MB/s]',\n",
       " ' 61%|██████    | 75.0M/123M [00:15<00:10, 4.64MB/s]',\n",
       " ' 62%|██████▏   | 76.0M/123M [00:15<00:09, 4.99MB/s]',\n",
       " ' 62%|██████▏   | 77.0M/123M [00:15<00:09, 5.06MB/s]',\n",
       " ' 63%|██████▎   | 78.0M/123M [00:15<00:09, 5.15MB/s]',\n",
       " ' 64%|██████▍   | 79.0M/123M [00:15<00:07, 5.89MB/s]',\n",
       " ' 65%|██████▍   | 80.0M/123M [00:16<00:08, 5.04MB/s]',\n",
       " ' 66%|██████▌   | 81.0M/123M [00:16<00:07, 5.76MB/s]',\n",
       " ' 67%|██████▋   | 82.0M/123M [00:16<00:06, 6.42MB/s]',\n",
       " ' 67%|██████▋   | 83.0M/123M [00:16<00:06, 6.94MB/s]',\n",
       " ' 68%|██████▊   | 84.0M/123M [00:16<00:07, 5.85MB/s]',\n",
       " ' 69%|██████▉   | 85.0M/123M [00:16<00:07, 5.53MB/s]',\n",
       " ' 70%|██████▉   | 86.0M/123M [00:17<00:06, 6.07MB/s]',\n",
       " ' 71%|███████   | 87.0M/123M [00:17<00:06, 6.07MB/s]',\n",
       " ' 71%|███████▏  | 88.0M/123M [00:17<00:07, 5.22MB/s]',\n",
       " ' 72%|███████▏  | 89.0M/123M [00:17<00:06, 5.36MB/s]',\n",
       " ' 73%|███████▎  | 90.0M/123M [00:17<00:06, 5.15MB/s]',\n",
       " ' 74%|███████▍  | 91.0M/123M [00:18<00:06, 4.96MB/s]',\n",
       " ' 75%|███████▍  | 92.0M/123M [00:18<00:06, 5.45MB/s]',\n",
       " ' 75%|███████▌  | 93.0M/123M [00:18<00:05, 5.90MB/s]',\n",
       " ' 76%|███████▋  | 94.0M/123M [00:18<00:06, 4.90MB/s]',\n",
       " ' 77%|███████▋  | 95.0M/123M [00:18<00:06, 4.86MB/s]',\n",
       " ' 78%|███████▊  | 96.0M/123M [00:19<00:05, 5.19MB/s]',\n",
       " ' 79%|███████▊  | 97.0M/123M [00:19<00:05, 5.14MB/s]',\n",
       " ' 80%|███████▉  | 98.0M/123M [00:19<00:04, 5.81MB/s]',\n",
       " ' 80%|████████  | 99.0M/123M [00:19<00:03, 6.38MB/s]',\n",
       " ' 81%|████████  | 100M/123M [00:19<00:03, 6.89MB/s] ',\n",
       " ' 82%|████████▏ | 101M/123M [00:20<00:04, 5.00MB/s]',\n",
       " ' 83%|████████▎ | 102M/123M [00:20<00:04, 4.94MB/s]',\n",
       " ' 84%|████████▎ | 103M/123M [00:20<00:04, 5.28MB/s]',\n",
       " ' 84%|████████▍ | 104M/123M [00:20<00:03, 5.30MB/s]',\n",
       " ' 85%|████████▌ | 105M/123M [00:20<00:03, 5.37MB/s]',\n",
       " ' 86%|████████▌ | 106M/123M [00:21<00:03, 5.31MB/s]',\n",
       " ' 87%|████████▋ | 107M/123M [00:21<00:03, 5.24MB/s]',\n",
       " ' 88%|████████▊ | 108M/123M [00:21<00:02, 5.52MB/s]',\n",
       " ' 88%|████████▊ | 109M/123M [00:21<00:02, 5.69MB/s]',\n",
       " ' 89%|████████▉ | 110M/123M [00:21<00:02, 4.69MB/s]',\n",
       " ' 90%|█████████ | 111M/123M [00:22<00:02, 5.33MB/s]',\n",
       " ' 91%|█████████ | 112M/123M [00:22<00:01, 5.93MB/s]',\n",
       " ' 92%|█████████▏| 113M/123M [00:22<00:01, 5.95MB/s]',\n",
       " ' 92%|█████████▏| 114M/123M [00:22<00:01, 5.67MB/s]',\n",
       " ' 93%|█████████▎| 115M/123M [00:22<00:01, 5.26MB/s]',\n",
       " ' 94%|█████████▍| 116M/123M [00:23<00:01, 4.77MB/s]',\n",
       " ' 95%|█████████▍| 117M/123M [00:23<00:01, 5.04MB/s]',\n",
       " ' 96%|█████████▌| 118M/123M [00:23<00:01, 5.17MB/s]',\n",
       " ' 97%|█████████▋| 119M/123M [00:23<00:00, 5.69MB/s]',\n",
       " ' 97%|█████████▋| 120M/123M [00:23<00:00, 5.13MB/s]',\n",
       " ' 98%|█████████▊| 121M/123M [00:24<00:00, 5.00MB/s]',\n",
       " ' 99%|█████████▉| 122M/123M [00:24<00:00, 5.07MB/s]',\n",
       " '100%|█████████▉| 123M/123M [00:24<00:00, 5.07MB/s]',\n",
       " '',\n",
       " '100%|██████████| 123M/123M [00:24<00:00, 5.29MB/s]']"
      ]
     },
     "execution_count": 4,
     "metadata": {},
     "output_type": "execute_result"
    }
   ],
   "source": [
    "%system kaggle datasets download -d gpiosenka/cats-in-the-wild-image-classification\n"
   ]
  },
  {
   "cell_type": "code",
   "execution_count": 5,
   "metadata": {},
   "outputs": [
    {
     "data": {
      "text/plain": [
       "[]"
      ]
     },
     "execution_count": 5,
     "metadata": {},
     "output_type": "execute_result"
    }
   ],
   "source": [
    "%system mv ./cats-in-the-wild-image-classification.zip ./blob\n"
   ]
  },
  {
   "cell_type": "code",
   "execution_count": null,
   "metadata": {},
   "outputs": [],
   "source": [
    "import os\n",
    "import zipfile\n",
    "\n",
    "zip_file = './blob/cats-in-the-wild-image-classification.zip'\n",
    "zip_ref = zipfile.ZipFile(zip_file, 'r')\n",
    "zip_ref.extractall('./blob')\n",
    "zip_ref.close()"
   ]
  },
  {
   "cell_type": "code",
   "execution_count": null,
   "metadata": {},
   "outputs": [],
   "source": [
    "import pandas as pd\n",
    "\n",
    "data = pd.read_csv('./blob/WILDCATS.CSV')\n",
    "data.head()"
   ]
  },
  {
   "cell_type": "code",
   "execution_count": null,
   "metadata": {},
   "outputs": [],
   "source": [
    "from numba import cuda\n",
    "cuda.select_device(0)\n",
    "cuda.close()"
   ]
  },
  {
   "cell_type": "code",
   "execution_count": null,
   "metadata": {},
   "outputs": [],
   "source": [
    "data.value_counts('labels')"
   ]
  },
  {
   "cell_type": "code",
   "execution_count": null,
   "metadata": {},
   "outputs": [],
   "source": [
    "%matplotlib inline\n",
    "\n",
    "import matplotlib.pyplot as plt\n",
    "import matplotlib.image as mpimage"
   ]
  },
  {
   "cell_type": "code",
   "execution_count": null,
   "metadata": {},
   "outputs": [],
   "source": [
    "fig = plt.gcf()\n",
    "\n",
    "fig.set_size_inches(4 * 4, 4 * 4)\n",
    "\n",
    "\n",
    "\n",
    "for i, img_path in enumerate(data[\"filepaths\"][0:8]):\n",
    "    sp = plt.subplot(4, 4, i + 1)\n",
    "    sp.axis('Off')\n",
    "    img = mpimage.imread(os.path.join(\"./blob/\",img_path))\n",
    "    plt.imshow(img)\n",
    "\n",
    "plt.show()"
   ]
  },
  {
   "cell_type": "code",
   "execution_count": null,
   "metadata": {},
   "outputs": [],
   "source": [
    "import os\n",
    "os.environ['TF_CPP_MIN_LOG_LEVEL'] = '2'\n",
    "import tensorflow as tf\n",
    "# print(\"Num GPUs Available: \", tf.config.list_physical_devices(\"GPU\"))\n",
    "import logging\n",
    "# tf.get_logger().setLevel(logging.ERROR)\n",
    "# config = tf.compat.v1.ConfigProto()\n",
    "# config.gpu_options.allow_growth = True\n",
    "# session = tf.compat.v1.Session(config=config)\n",
    "\n",
    "gpus = tf.config.list_physical_devices('GPU')\n",
    "if gpus:\n",
    "  try:\n",
    "    # Currently, memory growth needs to be the same across GPUs\n",
    "    for gpu in gpus:\n",
    "      tf.config.experimental.set_memory_growth(gpu, True)\n",
    "    logical_gpus = tf.config.list_logical_devices('GPU')\n",
    "    print(len(gpus), \"Physical GPUs,\", len(logical_gpus), \"Logical GPUs\")\n",
    "  except RuntimeError as e:\n",
    "    # Memory growth must be set before GPUs have been initialized\n",
    "    print(e)\n"
   ]
  },
  {
   "cell_type": "code",
   "execution_count": null,
   "metadata": {},
   "outputs": [],
   "source": [
    "from keras import layers, Model"
   ]
  },
  {
   "cell_type": "code",
   "execution_count": null,
   "metadata": {},
   "outputs": [],
   "source": []
  },
  {
   "cell_type": "code",
   "execution_count": 56,
   "metadata": {},
   "outputs": [],
   "source": [
    "img_input = layers.Input(shape=(224, 224, 3))\n",
    "\n",
    "x = layers.Conv2D(64, 3, activation='relu')(img_input)\n",
    "x = layers.Conv2D(64, 3, activation='relu')(x)\n",
    "x = layers.MaxPooling2D(2)(x)\n",
    "x = layers.Conv2D(128, 3, activation='relu')(x)\n",
    "x = layers.Conv2D(128, 3, activation='relu')(x)\n",
    "x = layers.MaxPooling2D(2)(x)\n",
    "x = layers.Conv2D(256, 3, activation='relu')(x)\n",
    "x = layers.Conv2D(256, 3, activation='relu')(x)\n",
    "x = layers.Conv2D(256, 3, activation='relu')(x)\n",
    "x = layers.MaxPooling2D(2)(x)\n",
    "x = layers.Conv2D(512, 3, activation='relu')(x)\n",
    "x = layers.Conv2D(512, 3, activation='relu')(x)\n",
    "x = layers.Conv2D(512, 3, activation='relu')(x)\n",
    "x = layers.MaxPooling2D(2)(x)\n",
    "x = layers.Conv2D(512, 3, activation='relu')(x)\n",
    "x = layers.Conv2D(512, 3, activation='relu')(x)\n",
    "x = layers.Conv2D(512, 3, activation='relu')(x)\n",
    "x = layers.MaxPooling2D(2)(x)\n",
    "\n",
    "x = layers.Flatten()(x)\n",
    "\n",
    "x = layers.Dense(4096, activation='relu')(x)\n",
    "output = layers.Dense(10, activation='softmax')(x)\n",
    "model = Model(img_input, output)\n"
   ]
  },
  {
   "cell_type": "code",
   "execution_count": null,
   "metadata": {},
   "outputs": [],
   "source": [
    "model.summary()"
   ]
  },
  {
   "cell_type": "code",
   "execution_count": null,
   "metadata": {},
   "outputs": [],
   "source": [
    "from tensorflow.keras.optimizers import RMSprop, Optimizer\n",
    "\n",
    "model.compile(loss='categorical_crossentropy',\n",
    "              optimizer=RMSprop(lr=0.01),\n",
    "              metrics=['acc'])"
   ]
  },
  {
   "cell_type": "code",
   "execution_count": null,
   "metadata": {},
   "outputs": [],
   "source": [
    "from keras.preprocessing.image import ImageDataGenerator\n",
    "from sklearn.model_selection import train_test_split\n",
    "from sklearn.preprocessing import LabelEncoder\n",
    "\n",
    "train_datagen = ImageDataGenerator(rescale=1./ 255,\n",
    "                                  #  rotation_range=40,\n",
    "                                  #  width_shift_range=0.2,\n",
    "                                  #  height_shift_range=0.2,\n",
    "                                  #  shear_range=0.2,\n",
    "                                  #  zoom_range=0.2,\n",
    "                                  #  horizontal_flip=True\n",
    "                                  )\n",
    "validation_datagen = ImageDataGenerator(rescale=1./255)\n",
    "\n",
    "\n",
    "data_train, data_val = train_test_split(data, test_size=0.2, shuffle=True)\n",
    "\n",
    "train_generator = train_datagen.flow_from_dataframe(data_train, \n",
    "                                                    \"./blob\", \n",
    "                                                    \"filepaths\", \n",
    "                                                    \"labels\",\n",
    "                                                    target_size=(224,224),\n",
    "                                                    batch_size=5,\n",
    "                                                    class_mode=\"categorical\")\n",
    "validation_generator = train_datagen.flow_from_dataframe(data_val, \n",
    "                                                    \"./blob\", \n",
    "                                                    \"filepaths\", \n",
    "                                                    \"labels\",\n",
    "                                                    target_size=(224,224),\n",
    "                                                    batch_size=5,\n",
    "                                                    class_mode=\"categorical\")\n",
    "\n"
   ]
  },
  {
   "cell_type": "code",
   "execution_count": null,
   "metadata": {},
   "outputs": [],
   "source": [
    "train_generator.image_shape"
   ]
  },
  {
   "cell_type": "code",
   "execution_count": null,
   "metadata": {},
   "outputs": [],
   "source": [
    "train_generator.n"
   ]
  },
  {
   "cell_type": "code",
   "execution_count": null,
   "metadata": {},
   "outputs": [],
   "source": [
    "history = model.fit(train_generator,validation_data=validation_generator, steps_per_epoch=350, epochs=80, verbose=1, validation_steps=5)"
   ]
  },
  {
   "cell_type": "code",
   "execution_count": null,
   "metadata": {},
   "outputs": [],
   "source": [
    "result = model.predict(train_generator)"
   ]
  },
  {
   "cell_type": "code",
   "execution_count": null,
   "metadata": {},
   "outputs": [],
   "source": [
    "print(train_generator.filenames[1])\n",
    "print(train_generator.labels[1])\n",
    "print(train_generator.class_indices)\n",
    "result[1]"
   ]
  },
  {
   "cell_type": "code",
   "execution_count": null,
   "metadata": {},
   "outputs": [],
   "source": [
    "import numpy as np\n",
    "keys = list(train_generator.class_indices.keys())\n",
    "result_category = list(map(lambda x: keys[np.argmax(x)], result))\n",
    "print(result_category)"
   ]
  }
 ],
 "metadata": {
  "kernelspec": {
   "display_name": "Python 3",
   "language": "python",
   "name": "python3"
  },
  "language_info": {
   "codemirror_mode": {
    "name": "ipython",
    "version": 3
   },
   "file_extension": ".py",
   "mimetype": "text/x-python",
   "name": "python",
   "nbconvert_exporter": "python",
   "pygments_lexer": "ipython3",
   "version": "3.10.6"
  },
  "orig_nbformat": 4,
  "polyglot_notebook": {
   "kernelInfo": {
    "defaultKernelName": "csharp",
    "items": [
     {
      "aliases": [],
      "name": "csharp"
     }
    ]
   }
  }
 },
 "nbformat": 4,
 "nbformat_minor": 2
}
